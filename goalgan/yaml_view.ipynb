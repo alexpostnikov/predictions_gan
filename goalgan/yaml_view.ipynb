{
 "cells": [
  {
   "cell_type": "code",
   "execution_count": 1,
   "id": "42a20876",
   "metadata": {},
   "outputs": [],
   "source": [
    "import yaml"
   ]
  },
  {
   "cell_type": "code",
   "execution_count": 2,
   "id": "6f0c5c52",
   "metadata": {},
   "outputs": [],
   "source": [
    "with open(\"/media/robot/hdd1/predictions_gan/GoalGAN/config/training/training.yaml\", 'r') as stream:\n",
    "    data_loaded = yaml.safe_load(stream)"
   ]
  },
  {
   "cell_type": "code",
   "execution_count": 3,
   "id": "0c82e26c",
   "metadata": {},
   "outputs": [
    {
     "data": {
      "text/plain": [
       "{'num_workers': 8,\n",
       " 'make_checkpoint': True,\n",
       " 'data_augmentation': 1,\n",
       " 'max_num': False,\n",
       " 'skip': 20,\n",
       " 'trainer': {'max_epochs': 400, 'gpus': [1], 'fast_dev_run': False},\n",
       " 'batch_size': 32,\n",
       " 'batch_size_scheduler': 10,\n",
       " 'pretraining': {'batch_size': 32, 'batch_size_scheduler': 10},\n",
       " 'lr_scheduler_G': 'ReduceLROnPlateau',\n",
       " 'lr_scheduler_D': 'ReduceLROnPlateau',\n",
       " 'lr_scheduler_pretrain': 'ReduceLROnPlateau',\n",
       " 'best_k': 10,\n",
       " 'best_k_val': 10,\n",
       " 'absolute': True,\n",
       " 'w_ADV': 1,\n",
       " 'w_L2': 5,\n",
       " 'w_G': 0.5,\n",
       " 'w_GCE': 1,\n",
       " 'lr_gen': '1e-3',\n",
       " 'lr_dis': '1e-3',\n",
       " 'lr_pretrain': '1e-2',\n",
       " 'g_steps': 1,\n",
       " 'd_steps': 1}"
      ]
     },
     "execution_count": 3,
     "metadata": {},
     "output_type": "execute_result"
    }
   ],
   "source": [
    "data_loaded"
   ]
  },
  {
   "cell_type": "code",
   "execution_count": 4,
   "id": "b4f486f3",
   "metadata": {},
   "outputs": [],
   "source": [
    "with open(\"/media/robot/hdd1/predictions_gan/GoalGAN/config/config.yaml\", 'r') as stream:\n",
    "    config = yaml.safe_load(stream)"
   ]
  },
  {
   "cell_type": "code",
   "execution_count": 5,
   "id": "a9289f44",
   "metadata": {},
   "outputs": [
    {
     "data": {
      "text/plain": [
       "{'defaults': [{'model': 'model.yaml'},\n",
       "  {'training': 'training.yaml'},\n",
       "  {'experiment': 'SYNTHETIC.yaml'},\n",
       "  {'eval': 'eval.yaml'}],\n",
       " 'general': {'save_dir': 'logs', 'project_name': 'GoalGAN'},\n",
       " 'hydra': {'run': {'dir': './logs'}}}"
      ]
     },
     "execution_count": 5,
     "metadata": {},
     "output_type": "execute_result"
    }
   ],
   "source": [
    "config"
   ]
  }
 ],
 "metadata": {
  "kernelspec": {
   "display_name": "yand",
   "language": "python",
   "name": "yand"
  },
  "language_info": {
   "codemirror_mode": {
    "name": "ipython",
    "version": 3
   },
   "file_extension": ".py",
   "mimetype": "text/x-python",
   "name": "python",
   "nbconvert_exporter": "python",
   "pygments_lexer": "ipython3",
   "version": "3.8.11"
  }
 },
 "nbformat": 4,
 "nbformat_minor": 5
}
